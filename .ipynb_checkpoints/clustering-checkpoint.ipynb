{
 "cells": [
  {
   "cell_type": "code",
   "execution_count": 1,
   "metadata": {},
   "outputs": [],
   "source": [
    "import numpy as np\n",
    "from sklearn import datasets\n",
    "\n",
    "from NPIR import NPIR\n",
    "import pandas as pd\n",
    "from sklearn.datasets import make_blobs\n",
    "import datetime\n",
    "import warnings\n",
    "from sklearn import metrics\n",
    "from collections import Counter as Cs\n",
    "from timeit import default_timer as timer\n",
    "from datetime import timedelta\n",
    "import matplotlib.pyplot as plt\n",
    "\n",
    "\n",
    "import findspark\n",
    "findspark.init()\n",
    "from pyspark import SparkContext\n",
    "from operator import *\n",
    "from pyspark import StorageLevel\n",
    "\n",
    "from pyspark.sql.types import IntegerType, FloatType, BooleanType, StringType, StructType,\\\n",
    "StructField,ArrayType, DataType\n",
    "from pyspark.sql.functions import udf, log, rand, monotonically_increasing_id, col, broadcast,\\\n",
    "greatest,desc,asc, row_number, avg, mean, least, struct, lit, sequence\n",
    "from functools import reduce\n",
    "\n",
    "import pyspark.sql.functions as F\n",
    "\n",
    "from pyspark.sql import SparkSession, SQLContext, Window, Row, DataFrame\n",
    "from pyspark import SparkConf"
   ]
  },
  {
   "cell_type": "code",
   "execution_count": 2,
   "metadata": {},
   "outputs": [],
   "source": [
    "spark = SparkSession.builder.master(\"local[*]\").config(\"spark.sql.broadcastTimeout\", \"30000s\").\\\n",
    "config(\"spark.network.timeout\",\"30000s\").config(\"spark.executor.heartbeatInterval\",\"12000000ms\").\\\n",
    "config(\"spark.storage.blockManagerSlaveTimeoutMs\",\"12000001ms\").config(\"spark.driver.maxResultSize\",\"5g\").\\\n",
    "config(\"spark.default.parallelism\", \"100\").config(\"spark.memory.offHeap.enabled\",\"true\").\\\n",
    "config(\"spark.memory.offHeap.size\", \"16g\").appName(\"mykmeans\").getOrCreate()"
   ]
  },
  {
   "cell_type": "code",
   "execution_count": 3,
   "metadata": {},
   "outputs": [],
   "source": [
    "sc = spark.sparkContext\n",
    "sqlContext = SQLContext(sc)"
   ]
  },
  {
   "cell_type": "code",
   "execution_count": 4,
   "metadata": {},
   "outputs": [
    {
     "data": {
      "text/plain": [
       "DataFrame[_c0: string, _c1: string, _c2: string, _c3: string, _c4: string, _c5: string, _c6: string, _c7: string]"
      ]
     },
     "execution_count": 4,
     "metadata": {},
     "output_type": "execute_result"
    }
   ],
   "source": [
    "#read csv\n",
    "data_spark_df = spark.read.format('csv').option('header','False').option('index','False').load('seeds.csv')\n",
    "data_spark_df"
   ]
  },
  {
   "cell_type": "code",
   "execution_count": 5,
   "metadata": {},
   "outputs": [
    {
     "data": {
      "text/plain": [
       "DataFrame[summary: string, _c0: string, _c1: string, _c2: string, _c3: string, _c4: string, _c5: string, _c6: string, _c7: string]"
      ]
     },
     "execution_count": 5,
     "metadata": {},
     "output_type": "execute_result"
    }
   ],
   "source": [
    "data_spark_df.describe()"
   ]
  },
  {
   "cell_type": "code",
   "execution_count": 6,
   "metadata": {},
   "outputs": [
    {
     "name": "stdout",
     "output_type": "stream",
     "text": [
      "root\n",
      " |-- _c0: string (nullable = true)\n",
      " |-- _c1: string (nullable = true)\n",
      " |-- _c2: string (nullable = true)\n",
      " |-- _c3: string (nullable = true)\n",
      " |-- _c4: string (nullable = true)\n",
      " |-- _c5: string (nullable = true)\n",
      " |-- _c6: string (nullable = true)\n",
      " |-- _c7: string (nullable = true)\n",
      "\n"
     ]
    }
   ],
   "source": [
    "data_spark_df.printSchema()"
   ]
  },
  {
   "cell_type": "code",
   "execution_count": 7,
   "metadata": {},
   "outputs": [],
   "source": [
    "data_spark_df = data_spark_df.select('_c3', '_c4')"
   ]
  },
  {
   "cell_type": "code",
   "execution_count": 8,
   "metadata": {},
   "outputs": [],
   "source": [
    "new_name = ['first', 'second']\n",
    "data_spark_rdd = data_spark_df.toDF(*new_name).rdd.filter(lambda x:x)\n",
    "data_spark_df = data_spark_df.toDF(*new_name)"
   ]
  },
  {
   "cell_type": "code",
   "execution_count": 9,
   "metadata": {},
   "outputs": [],
   "source": [
    "spark.conf.set(\"spark.sql.debug.maxToStringFields\", 1000)\n",
    "spark.conf.set('spark.jars.packages','com.databricks:spark-cav_2.11')\n",
    "spark.conf.set(\"spark.sql.parquet.compression.codec\",\"gzip\")\n",
    "spark.conf.set(\"spark.sql.execution.arrow.enabled\", \"False\")\n",
    "sqlContext.setConf(\"spark.sql.shuffle.partitions\", \"10\")"
   ]
  },
  {
   "cell_type": "code",
   "execution_count": 10,
   "metadata": {},
   "outputs": [],
   "source": [
    "# def MyCheckUpdate(a, b, c, d):\n",
    "#     a = float(a)\n",
    "#     b = float(b)\n",
    "#     c = float(c)\n",
    "#     d = float(d)\n",
    "#     res = (a-c) + (b-d)\n",
    "#     if res == 0:\n",
    "#         return 1.0\n",
    "#     return 0.0"
   ]
  },
  {
   "cell_type": "code",
   "execution_count": 11,
   "metadata": {},
   "outputs": [],
   "source": [
    "# check_centroid = udf(lambda x,y,z,r: MyCheckUpdate(x,y,z,r), FloatType())"
   ]
  },
  {
   "cell_type": "code",
   "execution_count": 12,
   "metadata": {},
   "outputs": [],
   "source": [
    "# def squaree1(c,u,f,g):\n",
    "#     c = float(c)\n",
    "#     u = float(u)\n",
    "#     f = float(f)\n",
    "#     g = float(g)\n",
    "#     array1 = np.array([c,u])\n",
    "#     array2 = np.array([f,g])\n",
    "#     dist = np.linalg.norm(array1-array2)\n",
    "#     dist = dist.item()\n",
    "#     return dist"
   ]
  },
  {
   "cell_type": "code",
   "execution_count": 13,
   "metadata": {},
   "outputs": [],
   "source": [
    "# squaree_spark1 = udf(lambda x,y,z,r: squaree1(x,y,z,r), FloatType())\n",
    "# sqlContext.sql(\"SET spark.sql.autoBroadcastJoinThreshold = -1\")"
   ]
  },
  {
   "cell_type": "code",
   "execution_count": 14,
   "metadata": {},
   "outputs": [],
   "source": [
    "# data_spark_df = data_spark_df.withColumn(\"first_numeric\", data_spark_df[\"first\"].cast(FloatType()))\n",
    "# data_spark_df"
   ]
  },
  {
   "cell_type": "code",
   "execution_count": 15,
   "metadata": {},
   "outputs": [],
   "source": [
    "# data_spark_df = data_spark_df.withColumn(\"second_numeric\", data_spark_df[\"second\"].cast(FloatType()))\n",
    "# data_spark_df"
   ]
  },
  {
   "cell_type": "code",
   "execution_count": 16,
   "metadata": {},
   "outputs": [],
   "source": [
    "# data_spark_df = data_spark_df.drop('first').drop('second')\n",
    "# data_spark_df"
   ]
  },
  {
   "cell_type": "code",
   "execution_count": 17,
   "metadata": {},
   "outputs": [],
   "source": [
    "# df_centroid = data_spark_df.sample(False, 0.4,seed = 0).limit(1).cache()\n",
    "\n",
    "# new_name = ['x','y']\n",
    "# df_centroid = df_centroid.toDF(*new_name)"
   ]
  },
  {
   "cell_type": "code",
   "execution_count": 18,
   "metadata": {},
   "outputs": [],
   "source": [
    "# df_centroid.show()"
   ]
  },
  {
   "cell_type": "code",
   "execution_count": 19,
   "metadata": {},
   "outputs": [],
   "source": [
    "# df_centroid.show()"
   ]
  },
  {
   "cell_type": "code",
   "execution_count": 20,
   "metadata": {},
   "outputs": [],
   "source": [
    "# #just for first round\n",
    "# #first time\n",
    "# i = 0\n",
    "\n",
    "# data_cent = data_spark_df.join(broadcast(df_centroid))\n",
    "# data_cent.show()"
   ]
  },
  {
   "cell_type": "code",
   "execution_count": 21,
   "metadata": {},
   "outputs": [],
   "source": [
    "# data_cent1 = data_cent.withColumn(str(i),squaree_spark1(data_cent.columns[0],data_cent.columns[1],\n",
    "#                                               data_cent.columns[2*i+2],data_cent.columns[2*i+3]))\n",
    "# data_cent1.show()"
   ]
  },
  {
   "cell_type": "code",
   "execution_count": 22,
   "metadata": {},
   "outputs": [],
   "source": [
    "# data_cent2 = data_cent1.drop(data_cent1.columns[i+2]).drop(data_cent1.columns[i+3])\n",
    "# data_cent2.show()"
   ]
  },
  {
   "cell_type": "code",
   "execution_count": 23,
   "metadata": {},
   "outputs": [],
   "source": [
    "# data_cent3 = data_cent2.withColumn('mindist',col(str(i)))\n",
    "# data_cent3.show()"
   ]
  },
  {
   "cell_type": "code",
   "execution_count": 24,
   "metadata": {},
   "outputs": [],
   "source": [
    "# data_cent4 = data_cent3.withColumn('mindist1',least(data_cent3.columns[i+2], col('mindist')))\n",
    "# data_cent4 = data_cent4.drop('mindist')\n",
    "# data_cent4.show()"
   ]
  },
  {
   "cell_type": "code",
   "execution_count": 25,
   "metadata": {},
   "outputs": [],
   "source": [
    "# data_cent5 = data_cent4.withColumnRenamed('mindist1','mindist')"
   ]
  },
  {
   "cell_type": "code",
   "execution_count": 26,
   "metadata": {},
   "outputs": [],
   "source": [
    "# next_selected = data_cent5.orderBy(desc('mindist')).limit(1).select(data_cent5.columns[0:2])#1:3\n",
    "# next_selected.show()"
   ]
  },
  {
   "cell_type": "code",
   "execution_count": 27,
   "metadata": {},
   "outputs": [],
   "source": [
    "# df_centroid = df_centroid.union(next_selected)"
   ]
  },
  {
   "cell_type": "code",
   "execution_count": 28,
   "metadata": {},
   "outputs": [],
   "source": [
    "# u = [str(i)+'x',str(i)+'y']\n",
    "# next_selected = next_selected.toDF(*u)\n",
    "# next_selected.show()"
   ]
  },
  {
   "cell_type": "code",
   "execution_count": 29,
   "metadata": {},
   "outputs": [],
   "source": [
    "# def initial_centroids(next_selected,data_cent_5_persist, i):\n",
    "#     data_cent6 = data_cent_5_persist.join(broadcast(next_selected))\n",
    "#     data_cent6 = data_cent6.withColumn(str(i),squaree_spark1(data_cent6.columns[0],data_cent6.columns[1],\n",
    "#                                              data_cent6.columns[i+3],data_cent6.columns[i+4]))#+4 +5\n",
    "#     data_cent6 = data_cent6.drop(data_cent6.columns[i+3]).drop(data_cent6.columns[i+4])#+4 +5\n",
    "#     data_cent6 = data_cent6.withColumn('mindist1',least(data_cent6.columns[i+3], col('mindist')))#4\n",
    "#     data_cent6 = data_cent6.drop('mindist')\n",
    "#     data_cent6 = data_cent6.withColumnRenamed('mindist1','mindist')\n",
    "#     next_cent = data_cent6.orderBy(desc('mindist')).limit(1).select(data_cent6.columns[0:2])#1:3\n",
    "#     return next_cent,data_cent6"
   ]
  },
  {
   "cell_type": "code",
   "execution_count": 30,
   "metadata": {},
   "outputs": [],
   "source": [
    "# data_cent_5_persist = data_cent5.persist(StorageLevel.MEMORY_ONLY_2)\n",
    "# data_cent_5_persist.show()"
   ]
  },
  {
   "cell_type": "code",
   "execution_count": 31,
   "metadata": {},
   "outputs": [],
   "source": [
    "# k=4"
   ]
  },
  {
   "cell_type": "code",
   "execution_count": 32,
   "metadata": {},
   "outputs": [],
   "source": [
    "# start = timer()\n",
    "# for i in range(1,k-1):\n",
    "#     next_selected, data_cent_5_persist = initial_centroids(next_selected,data_cent_5_persist, i)\n",
    "#     u = [str(i)+'x',str(i)+'y']\n",
    "#     next_selected = next_selected.toDF(*u)"
   ]
  },
  {
   "cell_type": "code",
   "execution_count": 33,
   "metadata": {},
   "outputs": [],
   "source": [
    "# i= k-1\n",
    "# data_cent11 = data_cent_5_persist.join(broadcast(next_selected))\n",
    "# data_cent11 = data_cent11.withColumn(str(i),squaree_spark1(data_cent11.columns[0],data_cent11.columns[1],\n",
    "#                                                            data_cent11.columns[k+2],data_cent11.columns[k+3]))\n",
    "# data_cent11 = data_cent11.drop('mindist').drop(data_cent11.columns[k+2]).drop(data_cent11.columns[k+3])\n",
    "# data_cent11.show()"
   ]
  },
  {
   "cell_type": "code",
   "execution_count": 34,
   "metadata": {},
   "outputs": [],
   "source": [
    "# def FindMinCOl( *row_list):\n",
    "#     ind = row_list.index(min(*row_list))\n",
    "#     return int(ind)"
   ]
  },
  {
   "cell_type": "code",
   "execution_count": 35,
   "metadata": {},
   "outputs": [],
   "source": [
    "# find_min_val_name = udf(FindMinCOl, IntegerType())"
   ]
  },
  {
   "cell_type": "code",
   "execution_count": 36,
   "metadata": {},
   "outputs": [],
   "source": [
    "# data_cent14 = data_cent11.withColumn('defined_cluster',find_min_val_name(*data_cent11.columns[2:3+k]))\n",
    "# data_cent14 = data_cent14.select('first_numeric','second_numeric','defined_cluster')\n",
    "# data_cent14.show()"
   ]
  },
  {
   "cell_type": "code",
   "execution_count": 37,
   "metadata": {},
   "outputs": [],
   "source": [
    "# new_centroid = data_cent14.groupBy('defined_cluster').avg('first_numeric', 'second_numeric')\n",
    "# new_centroid.show()"
   ]
  },
  {
   "cell_type": "code",
   "execution_count": 38,
   "metadata": {},
   "outputs": [],
   "source": [
    "# spark.sparkContext.getConf().getAll()"
   ]
  },
  {
   "cell_type": "code",
   "execution_count": 39,
   "metadata": {},
   "outputs": [],
   "source": [
    "# spark.conf.get(\"spark.sql.shuffle.partitions\") "
   ]
  },
  {
   "cell_type": "code",
   "execution_count": 40,
   "metadata": {},
   "outputs": [],
   "source": [
    "# def UpdateCentroid(x):\n",
    "#     data_cent_join1 = data_spark_df.join(broadcast(x))\n",
    "#     data_cent_join2 = data_cent_join1.withColumn('dist',squaree_spark1(data_cent_join1.columns[0], \n",
    "#                                                                        data_cent_join1.columns[1],\n",
    "#                                            data_cent_join1.columns[3],data_cent_join1.columns[4]))#3 4\n",
    "#     w = Window.partitionBy(data_cent_join2.columns[1])\n",
    "#     next_centroid = data_cent_join2.withColumn('mindist', F.min('dist').over(w)).\\\n",
    "#     filter(col('dist') == col('mindist')).drop('dist')\n",
    "#     update_new_centroid = next_centroid.groupBy('defined_cluster').avg('first_numeric', 'second_numeric')\n",
    "#     return update_new_centroid, next_centroid"
   ]
  },
  {
   "cell_type": "code",
   "execution_count": 41,
   "metadata": {},
   "outputs": [],
   "source": [
    "# new_centroid_persist|first|second = new_centroid.persist(StorageLevel.MEMORY_AND_DISK)"
   ]
  },
  {
   "cell_type": "code",
   "execution_count": 42,
   "metadata": {},
   "outputs": [],
   "source": [
    "# final_data = new_centroid"
   ]
  },
  {
   "cell_type": "code",
   "execution_count": 43,
   "metadata": {},
   "outputs": [],
   "source": [
    "# start = timer()\n",
    "# for i in range(20):\n",
    "#     new_centroid_persist, final_data = UpdateCentroid(new_centroid_persist)"
   ]
  },
  {
   "cell_type": "code",
   "execution_count": 44,
   "metadata": {},
   "outputs": [],
   "source": [
    "# end = timer()\n",
    "# print (\"Execution time HH:MM:SS:\",timedelta(seconds=end-start))"
   ]
  },
  {
   "cell_type": "code",
   "execution_count": 45,
   "metadata": {},
   "outputs": [],
   "source": [
    "# final_data = final_data.withColumnRenamed('avg(first_numeric)','cent_x').withColumnRenamed('avg(second_numeric)','cent_y')\n",
    "# final_data1 = final_data.select('defined_cluster')\n",
    "# final_data1.count()"
   ]
  },
  {
   "cell_type": "code",
   "execution_count": 46,
   "metadata": {},
   "outputs": [],
   "source": [
    "# final_data3 = final_data1.toPandas()"
   ]
  },
  {
   "cell_type": "code",
   "execution_count": 47,
   "metadata": {},
   "outputs": [],
   "source": [
    "# #read csv\n",
    "# true_label = spark.read.format('csv').option('header','False').option('index','True').load('seeds.csv')\n",
    "# true_label = true_label.select('_c7')\n",
    "# true_label_list = final_data1.toPandas()\n",
    "# true_label_list\n",
    "# true_label.toPandas()"
   ]
  },
  {
   "cell_type": "code",
   "execution_count": 48,
   "metadata": {},
   "outputs": [],
   "source": [
    "# type(final_data1)"
   ]
  },
  {
   "cell_type": "code",
   "execution_count": 49,
   "metadata": {},
   "outputs": [],
   "source": [
    "# final_data.coalesce(1).write.csv('kmeans_output11.csv')\n",
    "# final_data1.coalesce(1).write.csv('cluster_label_718.csv')\n",
    "# # final_data1.write.csv('cluster_label_718.csv')\n",
    "# # final_data.repartition(1).write.csv('kmeans_output11.csv')"
   ]
  },
  {
   "cell_type": "code",
   "execution_count": 50,
   "metadata": {},
   "outputs": [],
   "source": [
    "# x,y  = make_blobs(n_samples=200, centers=3, n_features=2, random_state=0)"
   ]
  },
  {
   "cell_type": "code",
   "execution_count": 51,
   "metadata": {},
   "outputs": [],
   "source": [
    "# from sklearn.cluster import KMeans"
   ]
  },
  {
   "cell_type": "code",
   "execution_count": 52,
   "metadata": {},
   "outputs": [],
   "source": [
    "# x1,y1 = make_blobs(n_samples=100, centers=3, n_features=2,\n",
    "#                 random_state=1)"
   ]
  },
  {
   "cell_type": "code",
   "execution_count": 53,
   "metadata": {},
   "outputs": [],
   "source": [
    "points = data_spark_df.count()"
   ]
  },
  {
   "cell_type": "code",
   "execution_count": 54,
   "metadata": {},
   "outputs": [],
   "source": [
    "#IR: The indexing ratio to be used for generating the maximum index\n",
    "IR = 0.2\n",
    "#The number of iteration i\n",
    "i = 5\n",
    "k = 3 #k: Number of clusters\n",
    "# count = Cs()\n",
    "chunk = 70"
   ]
  },
  {
   "cell_type": "code",
   "execution_count": 55,
   "metadata": {},
   "outputs": [],
   "source": [
    "# start = timer()\n",
    "# kmeans = KMeans(n_clusters=k, random_state=0).fit(x)\n",
    "# end = timer()\n",
    "# print (\"Execution time HH:MM:SS:\",timedelta(seconds=end-start))"
   ]
  },
  {
   "cell_type": "code",
   "execution_count": 56,
   "metadata": {},
   "outputs": [
    {
     "name": "stdout",
     "output_type": "stream",
     "text": [
      "+-----+------+-----------------+\n",
      "|first|second|index_column_name|\n",
      "+-----+------+-----------------+\n",
      "|5.763| 3.312|                0|\n",
      "|5.554| 3.333|                1|\n",
      "|5.291| 3.337|                2|\n",
      "|5.324| 3.379|                3|\n",
      "|5.658| 3.562|                4|\n",
      "|5.386| 3.312|                5|\n",
      "|5.563| 3.259|                6|\n",
      "| 5.42| 3.302|                7|\n",
      "|6.053| 3.465|                8|\n",
      "|5.884| 3.505|                9|\n",
      "|5.714| 3.242|               10|\n",
      "|5.438| 3.201|               11|\n",
      "|5.439| 3.199|               12|\n",
      "|5.479| 3.156|               13|\n",
      "|5.482| 3.114|               14|\n",
      "|5.351| 3.333|               15|\n",
      "|5.119| 3.383|               16|\n",
      "|5.527| 3.514|               17|\n",
      "|5.205| 3.466|               18|\n",
      "|5.226| 3.049|               19|\n",
      "+-----+------+-----------------+\n",
      "only showing top 20 rows\n",
      "\n"
     ]
    }
   ],
   "source": [
    "from pyspark.sql.functions import desc, row_number, monotonically_increasing_id\n",
    "from pyspark.sql.window import Window\n",
    "\n",
    "data_spark_df = data_spark_df.withColumn('index_column_name', row_number().\\\n",
    "                                          over(Window.orderBy(monotonically_increasing_id())) - 1)\n",
    "data_spark_df.show()"
   ]
  },
  {
   "cell_type": "code",
   "execution_count": 57,
   "metadata": {},
   "outputs": [],
   "source": [
    "def unionAll(*dfs):\n",
    "    return reduce(DataFrame.unionAll, dfs)"
   ]
  },
  {
   "cell_type": "code",
   "execution_count": 58,
   "metadata": {},
   "outputs": [
    {
     "data": {
      "text/plain": [
       "('chunkLabel', 'old label', '1', '2')"
      ]
     },
     "execution_count": 58,
     "metadata": {},
     "output_type": "execute_result"
    }
   ],
   "source": [
    "leaderheadr = ['chunkLabel', 'old label']\n",
    "leaderheadr.extend([str(x) for x in range(1, len(data_spark_df.columns))])\n",
    "leaderheadr = tuple(leaderheadr)\n",
    "leaderheadr"
   ]
  },
  {
   "cell_type": "code",
   "execution_count": 59,
   "metadata": {},
   "outputs": [
    {
     "data": {
      "text/plain": [
       "('chunkLabel', 'label')"
      ]
     },
     "execution_count": 59,
     "metadata": {},
     "output_type": "execute_result"
    }
   ],
   "source": [
    "labelsheader = ('chunkLabel', 'label')\n",
    "labelsheader"
   ]
  },
  {
   "cell_type": "code",
   "execution_count": 60,
   "metadata": {},
   "outputs": [],
   "source": [
    "labels = sqlContext.createDataFrame([np.full(len(labelsheader), np.nan).tolist()],labelsheader)\n",
    "labels = labels.na.drop()\n",
    "\n",
    "leaders = sqlContext.createDataFrame([np.full(len(leaderheadr), np.nan).tolist()],leaderheadr)\n",
    "leaders = leaders.na.drop()\n",
    "\n",
    "ii = 0\n",
    "for z in range(0, points, chunk):\n",
    "    j = z + chunk\n",
    "    data = data_spark_df.where(col(\"index_column_name\").between(z, j-1)).toPandas()\n",
    "    data.drop(\"index_column_name\",axis=1,inplace=True)\n",
    "    data = data.astype(float)\n",
    "    from NPIR import NPIR\n",
    "    label = NPIR(data.values,k,IR,i)\n",
    "    data['labels'] = label\n",
    "\n",
    "    # Adding to pyspard label\n",
    "    chunklabel = np.full(len(label), ii).tolist()\n",
    "    labelDF = [(x, y) for x, y in zip(chunklabel, label)]\n",
    "    labelsDF = sqlContext.createDataFrame(labelDF,labelsheader)\n",
    "    labels = unionAll(labels, labelsDF)\n",
    "\n",
    "    leader = []\n",
    "    f = list(Cs(label))\n",
    "    f.sort()\n",
    "    for i in f:\n",
    "        leader.append([round(np.mean(z), 4) for z in data[data['labels']==i].values[:,:-1].T])\n",
    "    del data\n",
    "    del NPIR\n",
    "    \n",
    "    # Adding to pyspark leaders\n",
    "    for x in range(len(leader)):\n",
    "        x1 = [ii, x]\n",
    "        \n",
    "        x1.extend(leader[x])\n",
    "        leader[x] = x1\n",
    "        \n",
    "    leaderDF = sqlContext.createDataFrame(leader,leaderheadr)\n",
    "    leaders = unionAll(leaders, leaderDF)\n",
    "    ii += 1"
   ]
  },
  {
   "cell_type": "code",
   "execution_count": 61,
   "metadata": {},
   "outputs": [
    {
     "name": "stdout",
     "output_type": "stream",
     "text": [
      "+----------+---------+------+------+\n",
      "|chunkLabel|old label|     1|     2|\n",
      "+----------+---------+------+------+\n",
      "|       0.0|      0.0|5.5792|3.3061|\n",
      "|       0.0|      1.0| 5.877| 3.396|\n",
      "|       0.0|      2.0|5.2272|3.0133|\n",
      "|       1.0|      0.0|6.1907|3.5969|\n",
      "|       1.0|      1.0|5.8905|3.5483|\n",
      "|       1.0|      2.0|6.3458|3.8075|\n",
      "|       2.0|      0.0|5.2125|3.0129|\n",
      "|       2.0|      1.0|5.3085|2.7701|\n",
      "|       2.0|      2.0|5.0808|2.8045|\n",
      "+----------+---------+------+------+\n",
      "\n"
     ]
    }
   ],
   "source": [
    "leaders.show()"
   ]
  },
  {
   "cell_type": "code",
   "execution_count": 62,
   "metadata": {},
   "outputs": [
    {
     "name": "stdout",
     "output_type": "stream",
     "text": [
      "+----------+---------+------+------+\n",
      "|chunkLabel|old label|     1|     2|\n",
      "+----------+---------+------+------+\n",
      "|       0.0|      0.0|5.5792|3.3061|\n",
      "|       0.0|      1.0| 5.877| 3.396|\n",
      "|       0.0|      2.0|5.2272|3.0133|\n",
      "+----------+---------+------+------+\n",
      "\n"
     ]
    }
   ],
   "source": [
    "leaders.where(col(\"chunkLabel\").between(0, 0)).show()"
   ]
  },
  {
   "cell_type": "code",
   "execution_count": 63,
   "metadata": {},
   "outputs": [
    {
     "name": "stdout",
     "output_type": "stream",
     "text": [
      "+----------+-----+\n",
      "|chunkLabel|label|\n",
      "+----------+-----+\n",
      "|       0.0|  0.0|\n",
      "|       0.0|  0.0|\n",
      "|       0.0|  0.0|\n",
      "|       0.0|  0.0|\n",
      "|       0.0|  0.0|\n",
      "|       0.0|  0.0|\n",
      "|       0.0|  0.0|\n",
      "|       0.0|  0.0|\n",
      "|       0.0|  0.0|\n",
      "|       0.0|  0.0|\n",
      "|       0.0|  0.0|\n",
      "|       0.0|  0.0|\n",
      "|       0.0|  0.0|\n",
      "|       0.0|  0.0|\n",
      "|       0.0|  0.0|\n",
      "|       0.0|  0.0|\n",
      "|       0.0|  0.0|\n",
      "|       0.0|  0.0|\n",
      "|       0.0|  0.0|\n",
      "|       0.0|  2.0|\n",
      "+----------+-----+\n",
      "only showing top 20 rows\n",
      "\n"
     ]
    }
   ],
   "source": [
    "labels.show()"
   ]
  },
  {
   "cell_type": "code",
   "execution_count": 64,
   "metadata": {},
   "outputs": [
    {
     "data": {
      "text/plain": [
       "DataFrame[first_numeric: float, second_numeric: float]"
      ]
     },
     "execution_count": 64,
     "metadata": {},
     "output_type": "execute_result"
    }
   ],
   "source": [
    "data_spark_df = leaders.withColumn(\"first_numeric\", leaders[\"1\"].cast(FloatType()))\n",
    "data_spark_df = data_spark_df.withColumn(\"second_numeric\", data_spark_df[\"2\"].cast(FloatType()))\n",
    "data_spark_df = data_spark_df.drop('1').drop('2').drop('chunkLabel').drop('old label')\n",
    "data_spark_df = data_spark_df.drop('1').drop('2').drop('chunkLabel').drop('old label')\n",
    "data_spark_df"
   ]
  },
  {
   "cell_type": "code",
   "execution_count": 65,
   "metadata": {},
   "outputs": [
    {
     "data": {
      "text/plain": [
       "DataFrame[key: string, value: string]"
      ]
     },
     "execution_count": 65,
     "metadata": {},
     "output_type": "execute_result"
    }
   ],
   "source": [
    "def MyCheckUpdate(a, b, c, d):\n",
    "    a = float(a)\n",
    "    b = float(b)\n",
    "    c = float(c)\n",
    "    d = float(d)\n",
    "    res = (a-c) + (b-d)\n",
    "    if res == 0:\n",
    "        return 1.0\n",
    "    return 0.0\n",
    "\n",
    "check_centroid = udf(lambda x,y,z,r: MyCheckUpdate(x,y,z,r), FloatType())\n",
    "\n",
    "def squaree1(c,u,f,g):\n",
    "    c = float(c)\n",
    "    u = float(u)\n",
    "    f = float(f)\n",
    "    g = float(g)\n",
    "    array1 = np.array([c,u])\n",
    "    array2 = np.array([f,g])\n",
    "    dist = np.linalg.norm(array1-array2)\n",
    "    dist = dist.item()\n",
    "    return dist\n",
    "\n",
    "squaree_spark1 = udf(lambda x,y,z,r: squaree1(x,y,z,r), FloatType())\n",
    "sqlContext.sql(\"SET spark.sql.autoBroadcastJoinThreshold = -1\")"
   ]
  },
  {
   "cell_type": "code",
   "execution_count": 66,
   "metadata": {},
   "outputs": [
    {
     "name": "stdout",
     "output_type": "stream",
     "text": [
      "Execution time HH:MM:SS: 0:00:00.244539\n"
     ]
    }
   ],
   "source": [
    "df_centroid = data_spark_df.sample(False, 0.4,seed = 0).limit(1).cache()\n",
    "\n",
    "new_name = ['x','y']\n",
    "df_centroid = df_centroid.toDF(*new_name)\n",
    "\n",
    "#just for first round\n",
    "#first time\n",
    "i = 0\n",
    "data_cent = data_spark_df.join(broadcast(df_centroid))\n",
    "data_cent1 = data_cent.withColumn(str(i),squaree_spark1(data_cent.columns[0],data_cent.columns[1],\n",
    "                                              data_cent.columns[2*i+2],data_cent.columns[2*i+3]))\n",
    "data_cent2 = data_cent1.drop(data_cent1.columns[i+2]).drop(data_cent1.columns[i+3])\n",
    "data_cent3 = data_cent2.withColumn('mindist',col(str(i)))\n",
    "data_cent4 = data_cent3.withColumn('mindist1',least(data_cent3.columns[i+2], col('mindist')))\n",
    "data_cent4 = data_cent4.drop('mindist')\n",
    "data_cent5 = data_cent4.withColumnRenamed('mindist1','mindist')\n",
    "next_selected = data_cent5.orderBy(desc('mindist')).limit(1).select(data_cent5.columns[0:2])#1:3\n",
    "df_centroid = df_centroid.union(next_selected)\n",
    "u = [str(i)+'x',str(i)+'y']\n",
    "next_selected = next_selected.toDF(*u)\n",
    "def initial_centroids(next_selected,data_cent_5_persist, i):\n",
    "    data_cent6 = data_cent_5_persist.join(broadcast(next_selected))\n",
    "    data_cent6 = data_cent6.withColumn(str(i),squaree_spark1(data_cent6.columns[0],data_cent6.columns[1],\n",
    "                                             data_cent6.columns[i+3],data_cent6.columns[i+4]))#+4 +5\n",
    "    data_cent6 = data_cent6.drop(data_cent6.columns[i+3]).drop(data_cent6.columns[i+4])#+4 +5\n",
    "    data_cent6 = data_cent6.withColumn('mindist1',least(data_cent6.columns[i+3], col('mindist')))#4\n",
    "    data_cent6 = data_cent6.drop('mindist')\n",
    "    data_cent6 = data_cent6.withColumnRenamed('mindist1','mindist')\n",
    "    next_cent = data_cent6.orderBy(desc('mindist')).limit(1).select(data_cent6.columns[0:2])#1:3\n",
    "    return next_cent,data_cent6\n",
    "\n",
    "\n",
    "data_cent_5_persist = data_cent5.persist(StorageLevel.MEMORY_ONLY_2)\n",
    "\n",
    "k=3\n",
    "\n",
    "start = timer()\n",
    "for i in range(1,k-1):\n",
    "    next_selected, data_cent_5_persist = initial_centroids(next_selected,data_cent_5_persist, i)\n",
    "    u = [str(i)+'x',str(i)+'y']\n",
    "    next_selected = next_selected.toDF(*u)\n",
    "\n",
    "end = timer()\n",
    "# print (\"Execution time HH:MM:SS:\",timedelta(seconds=end-start))\n",
    "\n",
    "\n",
    "\n",
    "i= k-1\n",
    "data_cent11 = data_cent_5_persist.join(broadcast(next_selected))\n",
    "data_cent11 = data_cent11.withColumn(str(i),squaree_spark1(data_cent11.columns[0],data_cent11.columns[1],                                                       data_cent11.columns[k+2],data_cent11.columns[k+3]))\n",
    "data_cent11 = data_cent11.drop('mindist').drop(data_cent11.columns[k+2]).drop(data_cent11.columns[k+3])\n",
    "\n",
    "\n",
    "def FindMinCOl( *row_list):\n",
    "    ind = row_list.index(min(*row_list))\n",
    "    return int(ind)\n",
    "\n",
    "\n",
    "\n",
    "find_min_val_name = udf(FindMinCOl, IntegerType())\n",
    "data_cent14 = data_cent11.withColumn('defined_cluster',find_min_val_name(*data_cent11.columns[2:3+k]))\n",
    "data_cent14 = data_cent14.select('first_numeric','second_numeric','defined_cluster')\n",
    "\n",
    "# data_cent14.filter(col(\"defined_cluster\") == 2).show()\n",
    "new_centroid = data_cent14.groupBy('defined_cluster').avg('first_numeric', 'second_numeric')\n",
    "\n",
    "spark.sparkConte1|     2xt.getConf().getAll()\n",
    "spark.conf.get(\"spark.sql.shuffle.partitions\") \n",
    "\n",
    "def UpdateCentroid(x):\n",
    "    data_cent_join1 = data_spark_df.join(broadcast(x))\n",
    "    data_cent_join2 = data_cent_join1.withColumn('dist',squaree_spark1(data_cent_join1.columns[0],\n",
    "                                                                 data_cent_join1.columns[1],\n",
    "                                       data_cent_join1.columns[3],data_cent_join1.columns[4]))#3 4\n",
    "    w = Window.partitionBy(data_cent_join2.columns[1])\n",
    "    next_centroid = data_cent_join2.withColumn('mindist', F.min('dist').over(w)).filter(col('dist') == col('mindist')).drop('dist')\n",
    "    update_new_centroid = next_centroid.groupBy('defined_cluster').avg('first_numeric', 'second_numeric')\n",
    "    return update_new_centroid, next_centroid\n",
    "\n",
    "new_centroid_persist = new_centroid.persist(StorageLevel.MEMORY_AND_DISK)\n",
    "\n",
    "start = timer()\n",
    "\n",
    "for i in range(20):\n",
    "    \n",
    "    new_centroid_persist, final_data = UpdateCentroid(new_centroid_persist)\n",
    "\n",
    "end = timer()\n",
    "\n",
    "\n",
    "final_data = final_data.withColumnRenamed('avg(first_numeric)','cent_x').withColumnRenamed('avg(second_numeric)','cent_y')\n",
    "\n",
    "print (\"Execution time HH:MM:SS:\",timedelta(seconds=end-start))\n",
    "# final_data1 = final_data.select('defined_cluster')\n",
    "\n",
    "\n",
    "# final_data1.count()\n"
   ]
  },
  {
   "cell_type": "code",
   "execution_count": 67,
   "metadata": {},
   "outputs": [
    {
     "name": "stdout",
     "output_type": "stream",
     "text": [
      "+-------------+--------------+---------------+-----------------+------------------+-----------+\n",
      "|first_numeric|second_numeric|defined_cluster|           cent_x|            cent_y|    mindist|\n",
      "+-------------+--------------+---------------+-----------------+------------------+-----------+\n",
      "|       5.2125|        3.0129|              0|5.207249999046326| 2.900200068950653|0.112822264|\n",
      "|       5.2272|        3.0133|              0|5.207249999046326| 2.900200068950653| 0.11484592|\n",
      "|       5.5792|        3.3061|              2|5.782233238220215|3.4167999426523843| 0.23125112|\n",
      "|        5.877|         3.396|              2|5.782233238220215|3.4167999426523843| 0.09702244|\n",
      "|       5.3085|        2.7701|              0|5.207249999046326| 2.900200068950653| 0.16485606|\n",
      "|       5.0808|        2.8045|              0|5.207249999046326| 2.900200068950653| 0.15858144|\n",
      "|       6.1907|        3.5969|              1|6.268249988555908| 3.702199935913086| 0.13077489|\n",
      "|       6.3458|        3.8075|              1|6.268249988555908| 3.702199935913086| 0.13077489|\n",
      "|       5.8905|        3.5483|              2|5.782233238220215|3.4167999426523843|  0.1703349|\n",
      "+-------------+--------------+---------------+-----------------+------------------+-----------+\n",
      "\n"
     ]
    }
   ],
   "source": [
    "final_data.show()"
   ]
  },
  {
   "cell_type": "code",
   "execution_count": 69,
   "metadata": {},
   "outputs": [
    {
     "name": "stdout",
     "output_type": "stream",
     "text": [
      "Execution time HH:MM:SS: 0:00:02.696626\n"
     ]
    }
   ],
   "source": [
    "print (\"Execution time HH:MM:SS:\",timedelta(seconds=end-start))"
   ]
  },
  {
   "cell_type": "code",
   "execution_count": 80,
   "metadata": {},
   "outputs": [
    {
     "ename": "TypeError",
     "evalue": "'Column' object is not callable",
     "output_type": "error",
     "traceback": [
      "\u001b[0;31m---------------------------------------------------------------------------\u001b[0m",
      "\u001b[0;31mTypeError\u001b[0m                                 Traceback (most recent call last)",
      "\u001b[0;32m<ipython-input-80-900822078305>\u001b[0m in \u001b[0;36m<module>\u001b[0;34m()\u001b[0m\n\u001b[0;32m----> 1\u001b[0;31m \u001b[0mlit\u001b[0m\u001b[0;34m(\u001b[0m\u001b[0mfinal_data\u001b[0m\u001b[0;34m[\u001b[0m\u001b[0;36m2\u001b[0m\u001b[0;34m]\u001b[0m\u001b[0;34m)\u001b[0m\u001b[0;34m.\u001b[0m\u001b[0mshow\u001b[0m\u001b[0;34m(\u001b[0m\u001b[0;34m)\u001b[0m\u001b[0;34m\u001b[0m\u001b[0;34m\u001b[0m\u001b[0m\n\u001b[0m",
      "\u001b[0;31mTypeError\u001b[0m: 'Column' object is not callable"
     ]
    }
   ],
   "source": [
    "lit(final_data[2]).show()"
   ]
  },
  {
   "cell_type": "code",
   "execution_count": 84,
   "metadata": {},
   "outputs": [
    {
     "ename": "AttributeError",
     "evalue": "'DataFrame' object has no attribute 'col'",
     "output_type": "error",
     "traceback": [
      "\u001b[0;31m---------------------------------------------------------------------------\u001b[0m",
      "\u001b[0;31mAttributeError\u001b[0m                            Traceback (most recent call last)",
      "\u001b[0;32m<ipython-input-84-cd66b7776fbc>\u001b[0m in \u001b[0;36m<module>\u001b[0;34m()\u001b[0m\n\u001b[0;32m----> 1\u001b[0;31m \u001b[0mleaders\u001b[0m\u001b[0;34m.\u001b[0m\u001b[0mwithColumn\u001b[0m\u001b[0;34m(\u001b[0m\u001b[0;34m'defined_cluster'\u001b[0m\u001b[0;34m,\u001b[0m \u001b[0mlit\u001b[0m\u001b[0;34m(\u001b[0m\u001b[0mfinal_data\u001b[0m\u001b[0;34m.\u001b[0m\u001b[0mcol\u001b[0m\u001b[0;34m(\u001b[0m\u001b[0;34m'defined_cluster'\u001b[0m\u001b[0;34m)\u001b[0m\u001b[0;34m)\u001b[0m\u001b[0;34m)\u001b[0m\u001b[0;34m\u001b[0m\u001b[0;34m\u001b[0m\u001b[0m\n\u001b[0m",
      "\u001b[0;32m/opt/spark/python/pyspark/sql/dataframe.py\u001b[0m in \u001b[0;36m__getattr__\u001b[0;34m(self, name)\u001b[0m\n\u001b[1;32m   1399\u001b[0m         \u001b[0;32mif\u001b[0m \u001b[0mname\u001b[0m \u001b[0;32mnot\u001b[0m \u001b[0;32min\u001b[0m \u001b[0mself\u001b[0m\u001b[0;34m.\u001b[0m\u001b[0mcolumns\u001b[0m\u001b[0;34m:\u001b[0m\u001b[0;34m\u001b[0m\u001b[0;34m\u001b[0m\u001b[0m\n\u001b[1;32m   1400\u001b[0m             raise AttributeError(\n\u001b[0;32m-> 1401\u001b[0;31m                 \"'%s' object has no attribute '%s'\" % (self.__class__.__name__, name))\n\u001b[0m\u001b[1;32m   1402\u001b[0m         \u001b[0mjc\u001b[0m \u001b[0;34m=\u001b[0m \u001b[0mself\u001b[0m\u001b[0;34m.\u001b[0m\u001b[0m_jdf\u001b[0m\u001b[0;34m.\u001b[0m\u001b[0mapply\u001b[0m\u001b[0;34m(\u001b[0m\u001b[0mname\u001b[0m\u001b[0;34m)\u001b[0m\u001b[0;34m\u001b[0m\u001b[0;34m\u001b[0m\u001b[0m\n\u001b[1;32m   1403\u001b[0m         \u001b[0;32mreturn\u001b[0m \u001b[0mColumn\u001b[0m\u001b[0;34m(\u001b[0m\u001b[0mjc\u001b[0m\u001b[0;34m)\u001b[0m\u001b[0;34m\u001b[0m\u001b[0;34m\u001b[0m\u001b[0m\n",
      "\u001b[0;31mAttributeError\u001b[0m: 'DataFrame' object has no attribute 'col'"
     ]
    }
   ],
   "source": [
    "df_with_x6 = (leaders\n",
    "    .join(final_data, col(\"1\") == col(\"first_numeric\") and col(\"2\") == col(\"second_numeric\"), \"leftouter\")\n",
    "    .drop(\"cent_x\").drop('cent_y').drop(mindist)\n",
    "    .withColumnRenamed(\"defined_cluster\", \"new label\"))"
   ]
  },
  {
   "cell_type": "code",
   "execution_count": null,
   "metadata": {},
   "outputs": [],
   "source": []
  },
  {
   "cell_type": "code",
   "execution_count": null,
   "metadata": {},
   "outputs": [],
   "source": []
  },
  {
   "cell_type": "code",
   "execution_count": null,
   "metadata": {},
   "outputs": [],
   "source": []
  },
  {
   "cell_type": "code",
   "execution_count": null,
   "metadata": {},
   "outputs": [],
   "source": []
  },
  {
   "cell_type": "code",
   "execution_count": null,
   "metadata": {},
   "outputs": [],
   "source": []
  },
  {
   "cell_type": "markdown",
   "metadata": {},
   "source": [
    "# Primariy Data: Max( o(n \\* p), o(n \\* n))\n"
   ]
  },
  {
   "cell_type": "markdown",
   "metadata": {},
   "source": [
    "# means:  uper(n / chunks) \\* k \\* p"
   ]
  },
  {
   "cell_type": "markdown",
   "metadata": {},
   "source": [
    "## (1 * 1) > 1 / chunks * k * 1 => chunks > k"
   ]
  },
  {
   "cell_type": "markdown",
   "metadata": {},
   "source": [
    "# labels: n"
   ]
  },
  {
   "cell_type": "code",
   "execution_count": 22,
   "metadata": {},
   "outputs": [
    {
     "data": {
      "text/html": [
       "<div>\n",
       "<style scoped>\n",
       "    .dataframe tbody tr th:only-of-type {\n",
       "        vertical-align: middle;\n",
       "    }\n",
       "\n",
       "    .dataframe tbody tr th {\n",
       "        vertical-align: top;\n",
       "    }\n",
       "\n",
       "    .dataframe thead th {\n",
       "        text-align: right;\n",
       "    }\n",
       "</style>\n",
       "<table border=\"1\" class=\"dataframe\">\n",
       "  <thead>\n",
       "    <tr style=\"text-align: right;\">\n",
       "      <th></th>\n",
       "      <th>first</th>\n",
       "      <th>second</th>\n",
       "      <th>index_column_name</th>\n",
       "    </tr>\n",
       "  </thead>\n",
       "  <tbody>\n",
       "    <tr>\n",
       "      <th>0</th>\n",
       "      <td>5.763</td>\n",
       "      <td>3.312</td>\n",
       "      <td>0</td>\n",
       "    </tr>\n",
       "    <tr>\n",
       "      <th>1</th>\n",
       "      <td>5.554</td>\n",
       "      <td>3.333</td>\n",
       "      <td>1</td>\n",
       "    </tr>\n",
       "    <tr>\n",
       "      <th>2</th>\n",
       "      <td>5.291</td>\n",
       "      <td>3.337</td>\n",
       "      <td>2</td>\n",
       "    </tr>\n",
       "    <tr>\n",
       "      <th>3</th>\n",
       "      <td>5.324</td>\n",
       "      <td>3.379</td>\n",
       "      <td>3</td>\n",
       "    </tr>\n",
       "    <tr>\n",
       "      <th>4</th>\n",
       "      <td>5.658</td>\n",
       "      <td>3.562</td>\n",
       "      <td>4</td>\n",
       "    </tr>\n",
       "    <tr>\n",
       "      <th>...</th>\n",
       "      <td>...</td>\n",
       "      <td>...</td>\n",
       "      <td>...</td>\n",
       "    </tr>\n",
       "    <tr>\n",
       "      <th>105</th>\n",
       "      <td>6.037</td>\n",
       "      <td>3.786</td>\n",
       "      <td>105</td>\n",
       "    </tr>\n",
       "    <tr>\n",
       "      <th>106</th>\n",
       "      <td>6.152</td>\n",
       "      <td>3.806</td>\n",
       "      <td>106</td>\n",
       "    </tr>\n",
       "    <tr>\n",
       "      <th>107</th>\n",
       "      <td>6.033</td>\n",
       "      <td>3.573</td>\n",
       "      <td>107</td>\n",
       "    </tr>\n",
       "    <tr>\n",
       "      <th>108</th>\n",
       "      <td>6.675</td>\n",
       "      <td>3.763</td>\n",
       "      <td>108</td>\n",
       "    </tr>\n",
       "    <tr>\n",
       "      <th>109</th>\n",
       "      <td>6.153</td>\n",
       "      <td>3.674</td>\n",
       "      <td>109</td>\n",
       "    </tr>\n",
       "  </tbody>\n",
       "</table>\n",
       "<p>110 rows × 3 columns</p>\n",
       "</div>"
      ],
      "text/plain": [
       "     first second  index_column_name\n",
       "0    5.763  3.312                  0\n",
       "1    5.554  3.333                  1\n",
       "2    5.291  3.337                  2\n",
       "3    5.324  3.379                  3\n",
       "4    5.658  3.562                  4\n",
       "..     ...    ...                ...\n",
       "105  6.037  3.786                105\n",
       "106  6.152  3.806                106\n",
       "107  6.033  3.573                107\n",
       "108  6.675  3.763                108\n",
       "109  6.153  3.674                109\n",
       "\n",
       "[110 rows x 3 columns]"
      ]
     },
     "execution_count": 22,
     "metadata": {},
     "output_type": "execute_result"
    }
   ],
   "source": [
    "data_spark_df.where(col(\"index_column_name\").between(0, chunk-1)).toPandas()"
   ]
  },
  {
   "cell_type": "code",
   "execution_count": 23,
   "metadata": {},
   "outputs": [],
   "source": [
    "index = list(range(data_spark_df.count()))\n",
    "# data_spark_df.withColumn('index', index)"
   ]
  },
  {
   "cell_type": "code",
   "execution_count": 24,
   "metadata": {},
   "outputs": [
    {
     "ename": "NameError",
     "evalue": "name 'NPIR' is not defined",
     "output_type": "error",
     "traceback": [
      "\u001b[0;31m---------------------------------------------------------------------------\u001b[0m",
      "\u001b[0;31mNameError\u001b[0m                                 Traceback (most recent call last)",
      "\u001b[0;32m<ipython-input-24-124663c3bd4a>\u001b[0m in \u001b[0;36m<module>\u001b[0;34m()\u001b[0m\n\u001b[1;32m      1\u001b[0m \u001b[0mstart\u001b[0m \u001b[0;34m=\u001b[0m \u001b[0mtimer\u001b[0m\u001b[0;34m(\u001b[0m\u001b[0;34m)\u001b[0m\u001b[0;34m\u001b[0m\u001b[0;34m\u001b[0m\u001b[0m\n\u001b[1;32m      2\u001b[0m \u001b[0;34m\u001b[0m\u001b[0m\n\u001b[0;32m----> 3\u001b[0;31m \u001b[0mlabelsPred\u001b[0m \u001b[0;34m=\u001b[0m \u001b[0mNPIR\u001b[0m\u001b[0;34m(\u001b[0m\u001b[0mx\u001b[0m\u001b[0;34m,\u001b[0m\u001b[0mk\u001b[0m\u001b[0;34m,\u001b[0m\u001b[0mIR\u001b[0m\u001b[0;34m,\u001b[0m\u001b[0mi\u001b[0m\u001b[0;34m)\u001b[0m\u001b[0;34m\u001b[0m\u001b[0;34m\u001b[0m\u001b[0m\n\u001b[0m\u001b[1;32m      4\u001b[0m \u001b[0;31m# labelsPred1 = NPIR(x1,k,IR,i)\u001b[0m\u001b[0;34m\u001b[0m\u001b[0;34m\u001b[0m\u001b[0;34m\u001b[0m\u001b[0m\n\u001b[1;32m      5\u001b[0m \u001b[0mend\u001b[0m \u001b[0;34m=\u001b[0m \u001b[0mtimer\u001b[0m\u001b[0;34m(\u001b[0m\u001b[0;34m)\u001b[0m\u001b[0;34m\u001b[0m\u001b[0;34m\u001b[0m\u001b[0m\n",
      "\u001b[0;31mNameError\u001b[0m: name 'NPIR' is not defined"
     ]
    }
   ],
   "source": [
    "start = timer()\n",
    "\n",
    "labelsPred = NPIR(x,k,IR,i)\n",
    "# labelsPred1 = NPIR(x1,k,IR,i)\n",
    "end = timer()\n",
    "print (\"Execution time HH:MM:SS:\",timedelta(seconds=end-start))\n",
    "labelsPred "
   ]
  },
  {
   "cell_type": "code",
   "execution_count": 60,
   "metadata": {},
   "outputs": [],
   "source": [
    "xf = pd.DataFrame(x)\n",
    "xf['label'] = labelsPred\n",
    "\n",
    "xf1 = pd.DataFrame(x1)\n",
    "xf1['label'] = labelsPred1\n"
   ]
  },
  {
   "cell_type": "code",
   "execution_count": 87,
   "metadata": {},
   "outputs": [
    {
     "data": {
      "text/plain": [
       "Counter({0.0: 132, 1.0: 235, 2.0: 33})"
      ]
     },
     "execution_count": 87,
     "metadata": {},
     "output_type": "execute_result"
    }
   ],
   "source": [
    "Cs(labelsPred)"
   ]
  },
  {
   "cell_type": "code",
   "execution_count": 80,
   "metadata": {},
   "outputs": [
    {
     "data": {
      "text/plain": [
       "[[-5.25081666665455, 0.7079872506453141],\n",
       " [0.2048390158359855, 3.219494554774886],\n",
       " [-7.737762715628958, -6.734775912763481]]"
      ]
     },
     "execution_count": 80,
     "metadata": {},
     "output_type": "execute_result"
    }
   ],
   "source": [
    "leader = []\n",
    "f = list(Cs(labelsPred))\n",
    "f.sort()\n",
    "for i in f:\n",
    "    leader.append([np.mean(z) for z in xf[xf['label']==i].values[:,:-1].T])\n",
    "leader"
   ]
  },
  {
   "cell_type": "code",
   "execution_count": 81,
   "metadata": {},
   "outputs": [
    {
     "data": {
      "text/plain": [
       "[[-10.049352425116377, -3.859540950538311],\n",
       " [-1.471081503636663, 4.337218821035101],\n",
       " [-6.581967860885246, -8.172393393876066]]"
      ]
     },
     "execution_count": 81,
     "metadata": {},
     "output_type": "execute_result"
    }
   ],
   "source": [
    "leader1 = []\n",
    "f = list(Cs(labelsPred1))\n",
    "f.sort()\n",
    "for i in f:\n",
    "    leader1.append([np.mean(z) for z in xf1[xf1['label']==i].values[:,:-2].T])\n",
    "leader1"
   ]
  },
  {
   "cell_type": "code",
   "execution_count": 82,
   "metadata": {},
   "outputs": [],
   "source": [
    "# xf1[xf1['label']==0].values[:,:]"
   ]
  },
  {
   "cell_type": "markdown",
   "metadata": {},
   "source": [
    "# 1 2 3 4 5 6 7 \n",
    "# 1 2 3 4\n",
    "# 1 2\n",
    "# 1\n",
    "\n",
    "# 2**b"
   ]
  },
  {
   "cell_type": "markdown",
   "metadata": {},
   "source": [
    "# a \\* t(NPIR(n / a)) + (a - 1) \\* t(NPIR(k)) ><? t(NPIR(n))"
   ]
  },
  {
   "cell_type": "code",
   "execution_count": 83,
   "metadata": {},
   "outputs": [
    {
     "data": {
      "text/plain": [
       "[[-5.25081666665455, 0.7079872506453141],\n",
       " [0.2048390158359855, 3.219494554774886],\n",
       " [-7.737762715628958, -6.734775912763481],\n",
       " [-10.049352425116377, -3.859540950538311],\n",
       " [-1.471081503636663, 4.337218821035101],\n",
       " [-6.581967860885246, -8.172393393876066]]"
      ]
     },
     "execution_count": 83,
     "metadata": {},
     "output_type": "execute_result"
    }
   ],
   "source": [
    "centers = leader.copy()\n",
    "centers.extend(leader1)\n",
    "centers\n"
   ]
  },
  {
   "cell_type": "code",
   "execution_count": 84,
   "metadata": {},
   "outputs": [
    {
     "data": {
      "text/plain": [
       "array([1, 1, 0, 2, 1, 0], dtype=object)"
      ]
     },
     "execution_count": 84,
     "metadata": {},
     "output_type": "execute_result"
    }
   ],
   "source": [
    "newlabel = NPIR(centers,k,IR,i)\n",
    "newlabel"
   ]
  },
  {
   "cell_type": "code",
   "execution_count": 90,
   "metadata": {},
   "outputs": [
    {
     "data": {
      "text/plain": [
       "0"
      ]
     },
     "execution_count": 90,
     "metadata": {},
     "output_type": "execute_result"
    }
   ],
   "source": [
    "newlabel[:k][2]"
   ]
  },
  {
   "cell_type": "code",
   "execution_count": null,
   "metadata": {},
   "outputs": [],
   "source": [
    "# newleader =[]\n",
    "# for i in range(k):"
   ]
  },
  {
   "cell_type": "code",
   "execution_count": 85,
   "metadata": {},
   "outputs": [
    {
     "data": {
      "text/html": [
       "<div>\n",
       "<style scoped>\n",
       "    .dataframe tbody tr th:only-of-type {\n",
       "        vertical-align: middle;\n",
       "    }\n",
       "\n",
       "    .dataframe tbody tr th {\n",
       "        vertical-align: top;\n",
       "    }\n",
       "\n",
       "    .dataframe thead th {\n",
       "        text-align: right;\n",
       "    }\n",
       "</style>\n",
       "<table border=\"1\" class=\"dataframe\">\n",
       "  <thead>\n",
       "    <tr style=\"text-align: right;\">\n",
       "      <th></th>\n",
       "      <th>0</th>\n",
       "      <th>1</th>\n",
       "      <th>label</th>\n",
       "    </tr>\n",
       "  </thead>\n",
       "  <tbody>\n",
       "    <tr>\n",
       "      <th>0</th>\n",
       "      <td>2.631858</td>\n",
       "      <td>0.689365</td>\n",
       "      <td>1.0</td>\n",
       "    </tr>\n",
       "    <tr>\n",
       "      <th>1</th>\n",
       "      <td>0.080804</td>\n",
       "      <td>4.690690</td>\n",
       "      <td>1.0</td>\n",
       "    </tr>\n",
       "    <tr>\n",
       "      <th>2</th>\n",
       "      <td>3.002519</td>\n",
       "      <td>0.742654</td>\n",
       "      <td>1.0</td>\n",
       "    </tr>\n",
       "    <tr>\n",
       "      <th>3</th>\n",
       "      <td>-0.637628</td>\n",
       "      <td>4.091047</td>\n",
       "      <td>1.0</td>\n",
       "    </tr>\n",
       "    <tr>\n",
       "      <th>4</th>\n",
       "      <td>-0.072283</td>\n",
       "      <td>2.883769</td>\n",
       "      <td>1.0</td>\n",
       "    </tr>\n",
       "    <tr>\n",
       "      <th>...</th>\n",
       "      <td>...</td>\n",
       "      <td>...</td>\n",
       "      <td>...</td>\n",
       "    </tr>\n",
       "    <tr>\n",
       "      <th>395</th>\n",
       "      <td>-6.026058</td>\n",
       "      <td>-5.966248</td>\n",
       "      <td>0.0</td>\n",
       "    </tr>\n",
       "    <tr>\n",
       "      <th>396</th>\n",
       "      <td>-7.047473</td>\n",
       "      <td>-9.275247</td>\n",
       "      <td>0.0</td>\n",
       "    </tr>\n",
       "    <tr>\n",
       "      <th>397</th>\n",
       "      <td>-1.373973</td>\n",
       "      <td>5.291631</td>\n",
       "      <td>1.0</td>\n",
       "    </tr>\n",
       "    <tr>\n",
       "      <th>398</th>\n",
       "      <td>-6.253931</td>\n",
       "      <td>-7.108786</td>\n",
       "      <td>0.0</td>\n",
       "    </tr>\n",
       "    <tr>\n",
       "      <th>399</th>\n",
       "      <td>0.085252</td>\n",
       "      <td>3.645283</td>\n",
       "      <td>1.0</td>\n",
       "    </tr>\n",
       "  </tbody>\n",
       "</table>\n",
       "<p>400 rows × 3 columns</p>\n",
       "</div>"
      ],
      "text/plain": [
       "            0         1  label\n",
       "0    2.631858  0.689365    1.0\n",
       "1    0.080804  4.690690    1.0\n",
       "2    3.002519  0.742654    1.0\n",
       "3   -0.637628  4.091047    1.0\n",
       "4   -0.072283  2.883769    1.0\n",
       "..        ...       ...    ...\n",
       "395 -6.026058 -5.966248    0.0\n",
       "396 -7.047473 -9.275247    0.0\n",
       "397 -1.373973  5.291631    1.0\n",
       "398 -6.253931 -7.108786    0.0\n",
       "399  0.085252  3.645283    1.0\n",
       "\n",
       "[400 rows x 3 columns]"
      ]
     },
     "execution_count": 85,
     "metadata": {},
     "output_type": "execute_result"
    }
   ],
   "source": [
    "xf['newlabel'] = np.full(len(xf), np.nan)\n",
    "xf1['newlabel'] =np.full(len(xf1), np.nan)\n",
    "# f = list(Cs(labelsPred))\n",
    "# f.sort()\n",
    "for i in range(k):\n",
    "    xf.loc[xf['label'] == i,'newlabel'] = newlabel[:k][i]\n",
    "\n",
    "# f = list(Cs(labelsPred1))\n",
    "# f.sort()\n",
    "for i in range(k):\n",
    "    xf1.loc[xf1['label'] == i,'newlabel'] = newlabel[-k:][i]\n",
    "merged_data = xf.append(xf1)\n",
    "merged_data['label'] = merged_data['newlabel']\n",
    "merged_data.drop(['newlabel'], inplace =True,axis=1)\n",
    "merged_data.reset_index(inplace=True)\n",
    "merged_data.drop(['index'], inplace =True,axis=1)\n",
    "merged_data"
   ]
  },
  {
   "cell_type": "code",
   "execution_count": null,
   "metadata": {},
   "outputs": [],
   "source": []
  },
  {
   "cell_type": "code",
   "execution_count": 86,
   "metadata": {},
   "outputs": [
    {
     "data": {
      "text/html": [
       "<div>\n",
       "<style scoped>\n",
       "    .dataframe tbody tr th:only-of-type {\n",
       "        vertical-align: middle;\n",
       "    }\n",
       "\n",
       "    .dataframe tbody tr th {\n",
       "        vertical-align: top;\n",
       "    }\n",
       "\n",
       "    .dataframe thead th {\n",
       "        text-align: right;\n",
       "    }\n",
       "</style>\n",
       "<table border=\"1\" class=\"dataframe\">\n",
       "  <thead>\n",
       "    <tr style=\"text-align: right;\">\n",
       "      <th></th>\n",
       "      <th>0</th>\n",
       "      <th>1</th>\n",
       "      <th>label</th>\n",
       "    </tr>\n",
       "  </thead>\n",
       "  <tbody>\n",
       "    <tr>\n",
       "      <th>0</th>\n",
       "      <td>2.631858</td>\n",
       "      <td>0.689365</td>\n",
       "      <td>1.0</td>\n",
       "    </tr>\n",
       "    <tr>\n",
       "      <th>1</th>\n",
       "      <td>0.080804</td>\n",
       "      <td>4.690690</td>\n",
       "      <td>1.0</td>\n",
       "    </tr>\n",
       "    <tr>\n",
       "      <th>2</th>\n",
       "      <td>3.002519</td>\n",
       "      <td>0.742654</td>\n",
       "      <td>1.0</td>\n",
       "    </tr>\n",
       "    <tr>\n",
       "      <th>3</th>\n",
       "      <td>-0.637628</td>\n",
       "      <td>4.091047</td>\n",
       "      <td>1.0</td>\n",
       "    </tr>\n",
       "    <tr>\n",
       "      <th>4</th>\n",
       "      <td>-0.072283</td>\n",
       "      <td>2.883769</td>\n",
       "      <td>1.0</td>\n",
       "    </tr>\n",
       "    <tr>\n",
       "      <th>...</th>\n",
       "      <td>...</td>\n",
       "      <td>...</td>\n",
       "      <td>...</td>\n",
       "    </tr>\n",
       "    <tr>\n",
       "      <th>395</th>\n",
       "      <td>-6.026058</td>\n",
       "      <td>-5.966248</td>\n",
       "      <td>0.0</td>\n",
       "    </tr>\n",
       "    <tr>\n",
       "      <th>396</th>\n",
       "      <td>-7.047473</td>\n",
       "      <td>-9.275247</td>\n",
       "      <td>0.0</td>\n",
       "    </tr>\n",
       "    <tr>\n",
       "      <th>397</th>\n",
       "      <td>-1.373973</td>\n",
       "      <td>5.291631</td>\n",
       "      <td>1.0</td>\n",
       "    </tr>\n",
       "    <tr>\n",
       "      <th>398</th>\n",
       "      <td>-6.253931</td>\n",
       "      <td>-7.108786</td>\n",
       "      <td>0.0</td>\n",
       "    </tr>\n",
       "    <tr>\n",
       "      <th>399</th>\n",
       "      <td>0.085252</td>\n",
       "      <td>3.645283</td>\n",
       "      <td>1.0</td>\n",
       "    </tr>\n",
       "  </tbody>\n",
       "</table>\n",
       "<p>400 rows × 3 columns</p>\n",
       "</div>"
      ],
      "text/plain": [
       "            0         1  label\n",
       "0    2.631858  0.689365    1.0\n",
       "1    0.080804  4.690690    1.0\n",
       "2    3.002519  0.742654    1.0\n",
       "3   -0.637628  4.091047    1.0\n",
       "4   -0.072283  2.883769    1.0\n",
       "..        ...       ...    ...\n",
       "395 -6.026058 -5.966248    0.0\n",
       "396 -7.047473 -9.275247    0.0\n",
       "397 -1.373973  5.291631    1.0\n",
       "398 -6.253931 -7.108786    0.0\n",
       "399  0.085252  3.645283    1.0\n",
       "\n",
       "[400 rows x 3 columns]"
      ]
     },
     "execution_count": 86,
     "metadata": {},
     "output_type": "execute_result"
    }
   ],
   "source": [
    "xf = merged_data.copy()\n",
    "labelsPred = merged_data['label']\n",
    "xf"
   ]
  },
  {
   "cell_type": "code",
   "execution_count": null,
   "metadata": {},
   "outputs": [],
   "source": []
  },
  {
   "cell_type": "code",
   "execution_count": null,
   "metadata": {},
   "outputs": [],
   "source": []
  },
  {
   "cell_type": "code",
   "execution_count": null,
   "metadata": {},
   "outputs": [],
   "source": []
  },
  {
   "cell_type": "code",
   "execution_count": null,
   "metadata": {},
   "outputs": [],
   "source": []
  },
  {
   "cell_type": "code",
   "execution_count": null,
   "metadata": {},
   "outputs": [],
   "source": []
  },
  {
   "cell_type": "code",
   "execution_count": null,
   "metadata": {},
   "outputs": [],
   "source": []
  },
  {
   "cell_type": "code",
   "execution_count": null,
   "metadata": {},
   "outputs": [],
   "source": []
  },
  {
   "cell_type": "code",
   "execution_count": null,
   "metadata": {},
   "outputs": [],
   "source": []
  },
  {
   "cell_type": "code",
   "execution_count": null,
   "metadata": {},
   "outputs": [],
   "source": []
  },
  {
   "cell_type": "code",
   "execution_count": 18,
   "metadata": {},
   "outputs": [],
   "source": [
    "tStart = datetime.datetime.now()"
   ]
  },
  {
   "cell_type": "code",
   "execution_count": null,
   "metadata": {},
   "outputs": [],
   "source": []
  },
  {
   "cell_type": "code",
   "execution_count": 19,
   "metadata": {},
   "outputs": [],
   "source": [
    "labelsPred = NPIR(x,k,IR,i)"
   ]
  },
  {
   "cell_type": "code",
   "execution_count": 26,
   "metadata": {},
   "outputs": [
    {
     "name": "stdout",
     "output_type": "stream",
     "text": [
      "labels:\n",
      "[2 2 2 2 2 2 0 2 2 2 2 2 2 2 0 2 0 2 2 0 0 0 2 2 2 2 2 2 0 2 2 2 2 2 0 2 2\n",
      " 2 2 2 2 2 1 2 2 2 2 2 2 0 2 2 2 2 2 2 2 2 2 2 2 2 0 2 2 2 2 0 2 2 2 1 2 2\n",
      " 2 2 2 2 0 2 2 2 2 2 2 2 2 2 2 2 2 2 2 2 0 2 2 2 2 2]\n",
      "Time: 0:00:05.841380\n",
      "Measures:\n",
      "HS: 0.15514209092195833\n",
      "CS: 0.35386610131606167\n",
      "VM: 0.21571176142840348\n",
      "AMI: 0.1916659801095808\n",
      "ARI: 0.06939194722159252\n"
     ]
    }
   ],
   "source": [
    "#printing results\n",
    "print('labels:')\n",
    "print(labelsPred)\n",
    "\n",
    "# tEnd = datetime.datetime.now()\n",
    "# print('Time: ' + str(tEnd - tStart))\n",
    "print('Measures:')\n",
    "print('HS: ' + str(metrics.homogeneity_score(y,labelsPred)))\n",
    "print('CS: ' + str(metrics.completeness_score(y,labelsPred)))\n",
    "print('VM: ' + str(metrics.v_measure_score(y,labelsPred)))\n",
    "print('AMI: ' + str(metrics.adjusted_mutual_info_score(y,labelsPred)))\n",
    "print('ARI: ' + str(metrics.adjusted_rand_score(y,labelsPred)))"
   ]
  },
  {
   "cell_type": "code",
   "execution_count": 27,
   "metadata": {},
   "outputs": [
    {
     "data": {
      "image/png": "[encoded data removed]",
      "text/plain": [
       "<Figure size 432x288 with 1 Axes>"
      ]
     },
     "metadata": {},
     "output_type": "display_data"
    }
   ],
   "source": [
    "import matplotlib.pyplot as plt\n",
    "from itertools import cycle, islice \n",
    "\n",
    "fig = plt.figure()      \n",
    "colors = np.array(list(islice(cycle(['#377eb8', '#ff7f00', '#4daf4a','#f781bf', '#a65628', '#984ea3',\n",
    "                                    '#999999', '#e41a1c', '#dede00']),int(k))))\n",
    "plt.scatter(x[:, 0], x[:, 1], s=10, color=colors[labelsPred.tolist()])\n",
    "plt.show()\n",
    "# plt.clf()"
   ]
  },
  {
   "cell_type": "code",
   "execution_count": 26,
   "metadata": {},
   "outputs": [
    {
     "data": {
      "image/png": "[encoded data removed]",
      "text/plain": [
       "<Figure size 432x288 with 1 Axes>"
      ]
     },
     "metadata": {},
     "output_type": "display_data"
    }
   ],
   "source": [
    "import matplotlib.pyplot as plt\n",
    "from itertools import cycle, islice \n",
    "\n",
    "fig = plt.figure()      \n",
    "colors = np.array(list(islice(cycle(['#377eb8', '#ff7f00', '#4daf4a','#f781bf', '#a65628', '#984ea3',\n",
    "                                    '#999999', '#e41a1c', '#dede00']),int(k))))\n",
    "plt.scatter(x1[:, 0], x1[:, 1], s=10, color=colors[labelsPred1.tolist()])\n",
    "plt.show()\n",
    "# plt.clf()"
   ]
  },
  {
   "cell_type": "code",
   "execution_count": 21,
   "metadata": {},
   "outputs": [
    {
     "data": {
      "image/png": "[encoded data removed]",
      "text/plain": [
       "<Figure size 432x288 with 1 Axes>"
      ]
     },
     "metadata": {},
     "output_type": "display_data"
    }
   ],
   "source": [
    "import matplotlib.pyplot as plt\n",
    "from itertools import cycle, islice \n",
    "\n",
    "fig = plt.figure()      \n",
    "colors = np.array(list(islice(cycle(['#377eb8', '#ff7f00', '#4daf4a','#f781bf', '#a65628', '#984ea3',\n",
    "                                    '#999999', '#e41a1c', '#dede00']),int(k))))\n",
    "plt.scatter(merged_data.iloc[:, 0].values, merged_data.iloc[:, 1].values, s=10, color=colors[merged_data['label'].astype(int).tolist()])\n",
    "plt.show()\n",
    "# plt.clf()"
   ]
  },
  {
   "cell_type": "code",
   "execution_count": 28,
   "metadata": {},
   "outputs": [],
   "source": [
    "# [labelsPred1.tolist()]"
   ]
  },
  {
   "cell_type": "code",
   "execution_count": null,
   "metadata": {},
   "outputs": [],
   "source": []
  }
 ],
 "metadata": {
  "kernelspec": {
   "display_name": "Python 3",
   "language": "python",
   "name": "python3"
  },
  "language_info": {
   "codemirror_mode": {
    "name": "ipython",
    "version": 3
   },
   "file_extension": ".py",
   "mimetype": "text/x-python",
   "name": "python",
   "nbconvert_exporter": "python",
   "pygments_lexer": "ipython3",
   "version": "3.6.9"
  }
 },
 "nbformat": 4,
 "nbformat_minor": 2
}
