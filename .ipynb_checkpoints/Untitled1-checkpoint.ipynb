{
 "cells": [
  {
   "cell_type": "code",
   "execution_count": 1,
   "metadata": {},
   "outputs": [],
   "source": [
    "import numpy as np\n",
    "import random\n",
    "import math\n",
    "import matplotlib.pyplot as plt"
   ]
  },
  {
   "cell_type": "code",
   "execution_count": 2,
   "metadata": {},
   "outputs": [],
   "source": [
    "def singlePointCost(point):\n",
    "    return (pow(math.sin(point[0]-point[1]),2)*pow(math.sin(point[0]+point[1]),2))/(math.sqrt(pow(point[0],2)+2*pow(point[1],2)))\n",
    " "
   ]
  },
  {
   "cell_type": "code",
   "execution_count": 12,
   "metadata": {},
   "outputs": [],
   "source": [
    "                                                              \n",
    "def shc(pos, max_iter, tolerance):\n",
    "            \n",
    "    def cost(neighborsList):\n",
    "        costDic = {}\n",
    "        for i in neighborsList:\n",
    "            costDic[i] = (pow(math.sin(i[0]-i[1]),2)*pow(math.sin(i[0]+i[1]),2))/(math.sqrt(pow(i[0],2)+2*pow(i[1],2)))\n",
    "        return costDic\n",
    "        \n",
    "    def generateNeighbors(x, y, dx):\n",
    "        neighbors = []\n",
    "        neighbors.append((x + dx, y))\n",
    "        neighbors.append((x - dx, y))\n",
    "        neighbors.append((x, y + dx))\n",
    "        neighbors.append((x, y - dx))\n",
    "        return neighbors\n",
    "        \n",
    "    def selectCandidate(currentPos, candidateCostDic):\n",
    "        currentCost = singlePointCost(currentPos)\n",
    "        selectedDic = {}\n",
    "        for cand in candidateCostDic:\n",
    "            if candidateCostDic[cand] >= currentCost:\n",
    "                selectedDic[cand] = candidateCostDic[cand]\n",
    "        return selectedDic\n",
    "        \n",
    "    def randomSelect(candidatesDic):\n",
    "        currentCost = singlePointCost(currentPos)\n",
    "        for cand in candidatesDic:\n",
    "            candidatesDic[cand] = math.floor((currentCost - candidatesDic[cand]) * 10000)\n",
    "        return random.choice([x for x in candidatesDic for y in range(candidatesDic[x])])\n",
    "        \n",
    "    dx = 6/256\n",
    "    currentPos = pos\n",
    "    points = [pos]\n",
    "    proceed = True\n",
    "    iter = 1\n",
    "    while proceed and iter  max_iter:\n",
    "        candidateCostDic = cost(generateNeighbors(currentPos[0], currentPos[1], dx))\n",
    "        candidates = selectCandidate(currentPos, candidateCostDic)\n",
    "        #candidates = {candid : cost}\n",
    "        if not candidates:\n",
    "            break\n",
    "        nextPos = randomSelect(candidates)\n",
    "        points.append(nextPos)\n",
    "        if singlePointCost(currentPos) - singlePointCost(nextPos) < tolerance:\n",
    "            proceed = False\n",
    "        currentPos = nextPos\n",
    "        iter += 1\n",
    "        \n",
    "    return singlePointCost(currentPos), iter, points"
   ]
  },
  {
   "cell_type": "code",
   "execution_count": 13,
   "metadata": {},
   "outputs": [],
   "source": [
    "(f, iter, points) = shc((5, 5), 200, 0.01)\n",
    "valusList = []\n",
    "for i in points:\n",
    "    valusList.append(singlePointCost(i))"
   ]
  },
  {
   "cell_type": "code",
   "execution_count": 14,
   "metadata": {},
   "outputs": [
    {
     "data": {
      "text/plain": [
       "[(5, 5)]"
      ]
     },
     "execution_count": 14,
     "metadata": {},
     "output_type": "execute_result"
    }
   ],
   "source": [
    "points"
   ]
  },
  {
   "cell_type": "code",
   "execution_count": 1,
   "metadata": {},
   "outputs": [
    {
     "ename": "NameError",
     "evalue": "name 'plt' is not defined",
     "output_type": "error",
     "traceback": [
      "\u001b[0;31m---------------------------------------------------------------------------\u001b[0m",
      "\u001b[0;31mNameError\u001b[0m                                 Traceback (most recent call last)",
      "\u001b[0;32m<ipython-input-1-62a989b70245>\u001b[0m in \u001b[0;36m<module>\u001b[0;34m()\u001b[0m\n\u001b[1;32m      1\u001b[0m \u001b[0;34m\u001b[0m\u001b[0m\n\u001b[1;32m      2\u001b[0m \u001b[0;34m\u001b[0m\u001b[0m\n\u001b[0;32m----> 3\u001b[0;31m \u001b[0mplt\u001b[0m\u001b[0;34m.\u001b[0m\u001b[0mplot\u001b[0m\u001b[0;34m(\u001b[0m\u001b[0mrange\u001b[0m\u001b[0;34m(\u001b[0m\u001b[0mlen\u001b[0m\u001b[0;34m(\u001b[0m\u001b[0mpoints\u001b[0m\u001b[0;34m)\u001b[0m\u001b[0;34m)\u001b[0m\u001b[0;34m,\u001b[0m \u001b[0mvalusList\u001b[0m\u001b[0;34m)\u001b[0m\u001b[0;34m\u001b[0m\u001b[0;34m\u001b[0m\u001b[0m\n\u001b[0m\u001b[1;32m      4\u001b[0m \u001b[0mplt\u001b[0m\u001b[0;34m.\u001b[0m\u001b[0mtitle\u001b[0m\u001b[0;34m(\u001b[0m\u001b[0;34m'Stochastic Hill Climbing'\u001b[0m\u001b[0;34m)\u001b[0m\u001b[0;34m\u001b[0m\u001b[0;34m\u001b[0m\u001b[0m\n\u001b[1;32m      5\u001b[0m \u001b[0mplt\u001b[0m\u001b[0;34m.\u001b[0m\u001b[0mxlabel\u001b[0m\u001b[0;34m(\u001b[0m\u001b[0;34m'N-th iteration'\u001b[0m\u001b[0;34m)\u001b[0m\u001b[0;34m\u001b[0m\u001b[0;34m\u001b[0m\u001b[0m\n",
      "\u001b[0;31mNameError\u001b[0m: name 'plt' is not defined"
     ]
    }
   ],
   "source": [
    "plt.plot(range(len(points)), valusList)\n",
    "plt.title('Stochastic Hill Climbing')\n",
    "plt.xlabel('N-th iteration')\n",
    "plt.ylabel('F value')\n",
    "plt.show()"
   ]
  },
  {
   "cell_type": "code",
   "execution_count": null,
   "metadata": {},
   "outputs": [],
   "source": []
  }
 ],
 "metadata": {
  "kernelspec": {
   "display_name": "Python 3",
   "language": "python",
   "name": "python3"
  },
  "language_info": {
   "codemirror_mode": {
    "name": "ipython",
    "version": 3
   },
   "file_extension": ".py",
   "mimetype": "text/x-python",
   "name": "python",
   "nbconvert_exporter": "python",
   "pygments_lexer": "ipython3",
   "version": "3.6.9"
  }
 },
 "nbformat": 4,
 "nbformat_minor": 2
}
